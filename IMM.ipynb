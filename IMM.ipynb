{
  "nbformat": 4,
  "nbformat_minor": 0,
  "metadata": {
    "colab": {
      "name": "IMM",
      "provenance": [],
      "authorship_tag": "ABX9TyO3uOamorq6863R47PvGPSI",
      "include_colab_link": true
    },
    "kernelspec": {
      "name": "python3",
      "display_name": "Python 3"
    },
    "language_info": {
      "name": "python"
    }
  },
  "cells": [
    {
      "cell_type": "markdown",
      "metadata": {
        "id": "view-in-github",
        "colab_type": "text"
      },
      "source": [
        "<a href=\"https://colab.research.google.com/github/AlejandroBaquerizo2001/POE-5-1/blob/main/IMM.ipynb\" target=\"_parent\"><img src=\"https://colab.research.google.com/assets/colab-badge.svg\" alt=\"Open In Colab\"/></a>"
      ]
    },
    {
      "cell_type": "markdown",
      "source": [],
      "metadata": {
        "id": "viEVQBfyoiMA"
      }
    },
    {
      "cell_type": "markdown",
      "source": [
        "CALCULAR INDICE DE IMM\n",
        "ALEJANDRO VICENTE BAQUERIZO VERA SOFT-S-MA-5-1"
      ],
      "metadata": {
        "id": "JVOeBFZBokRv"
      }
    },
    {
      "cell_type": "code",
      "execution_count": 2,
      "metadata": {
        "colab": {
          "base_uri": "https://localhost:8080/"
        },
        "id": "3Iuy_-aPoeJ4",
        "outputId": "0e32421b-09d2-44f5-88b5-cf67efbb973c"
      },
      "outputs": [
        {
          "output_type": "stream",
          "name": "stdout",
          "text": [
            "40.0\n"
          ]
        }
      ],
      "source": [
        "#@title Texto de título predeterminado { run: \"auto\" }\n",
        "Peso = 40 #@param {type:\"number\"}\n",
        "Talla = 170 #@param {type:\"integer\"}\n",
        "imc=Peso/Talla*Talla\n",
        "print(imc)"
      ]
    }
  ]
}